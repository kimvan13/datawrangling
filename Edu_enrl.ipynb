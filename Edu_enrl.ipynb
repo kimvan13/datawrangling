{
 "cells": [
  {
   "cell_type": "code",
   "execution_count": 1,
   "metadata": {},
   "outputs": [],
   "source": [
    "library(tidyr)"
   ]
  },
  {
   "cell_type": "code",
   "execution_count": 8,
   "metadata": {},
   "outputs": [],
   "source": [
    "library(readr)"
   ]
  },
  {
   "cell_type": "code",
   "execution_count": 9,
   "metadata": {},
   "outputs": [
    {
     "name": "stderr",
     "output_type": "stream",
     "text": [
      "Warning message:\n",
      "“Missing column names filled in: 'X2' [2]”Parsed with column specification:\n",
      "cols(\n",
      "  `Region/Country/Area` = \u001b[32mcol_double()\u001b[39m,\n",
      "  X2 = \u001b[31mcol_character()\u001b[39m,\n",
      "  Year = \u001b[32mcol_double()\u001b[39m,\n",
      "  Series = \u001b[31mcol_character()\u001b[39m,\n",
      "  Value = \u001b[32mcol_number()\u001b[39m,\n",
      "  Footnotes = \u001b[31mcol_character()\u001b[39m,\n",
      "  Source = \u001b[31mcol_character()\u001b[39m\n",
      ")\n"
     ]
    }
   ],
   "source": [
    "Edu_enroll <- read_csv(file = \"Education_Enrollment.csv\", skip = 1)"
   ]
  },
  {
   "cell_type": "code",
   "execution_count": null,
   "metadata": {},
   "outputs": [],
   "source": [
    "data <- Edu_enroll %>%\n",
    "  select(\"Region/Country/Area\" : \"Value\") # To select column"
   ]
  },
  {
   "cell_type": "code",
   "execution_count": null,
   "metadata": {},
   "outputs": [],
   "source": [
    "# To rename\n",
    "data <- data %>%\n",
    "  rename(\n",
    "    'Region code' = 'Region/Country/Area',\n",
    "    'Region' = 'X2'\n",
    "    )"
   ]
  },
  {
   "cell_type": "code",
   "execution_count": null,
   "metadata": {},
   "outputs": [],
   "source": [
    "data <- spread(data, Series, Value) # To spread a column"
   ]
  },
  {
   "cell_type": "code",
   "execution_count": null,
   "metadata": {},
   "outputs": [],
   "source": [
    "# To assign \"0\" for missing data\n",
    "data[c(\"Gross enrollement ratio - Primary (male)\",\"Gross enrollment ratio - Primary (female)\",\"Gross enrollment ratio - Secondary (female)\",\"Gross enrollment ratio - Secondary (male)\",\"Gross enrollment ratio - Tertiary (female)\",\"Gross enrollment ratio - Tertiary (male)\",\"Students enrolled in primary education (thousands)\",\"Students enrolled in secondary education (thousands)\",\"Students enrolled in tertiary education (thousands)\")][is.na(data[c(\"Gross enrollement ratio - Primary (male)\",\"Gross enrollment ratio - Primary (female)\",\"Gross enrollment ratio - Secondary (female)\",\"Gross enrollment ratio - Secondary (male)\",\"Gross enrollment ratio - Tertiary (female)\",\"Gross enrollment ratio - Tertiary (male)\",\"Students enrolled in primary education (thousands)\",\"Students enrolled in secondary education (thousands)\",\"Students enrolled in tertiary education (thousands)\")])] <- 0"
   ]
  },
  {
   "cell_type": "code",
   "execution_count": null,
   "metadata": {},
   "outputs": [],
   "source": [
    "remotes::install_github(\"ropensci/visdat\")"
   ]
  },
  {
   "cell_type": "code",
   "execution_count": null,
   "metadata": {},
   "outputs": [],
   "source": [
    "library(visdat) # To visualize data"
   ]
  },
  {
   "cell_type": "code",
   "execution_count": null,
   "metadata": {},
   "outputs": [],
   "source": [
    "data %>% vis_miss(cluster = TRUE) # to see clustered missing values "
   ]
  },
  {
   "cell_type": "code",
   "execution_count": null,
   "metadata": {},
   "outputs": [],
   "source": [
    "# To sammarise a column using group_by\n",
    "data %>% \n",
    "  group_by(Region) %>%\n",
    "  summarise(Count = n_distinct(Year))%>%\n",
    "  add_tally()"
   ]
  },
  {
   "cell_type": "code",
   "execution_count": null,
   "metadata": {},
   "outputs": [],
   "source": [
    "write_csv(data, path = \"Edu_enroll.csv\") # To save CSV"
   ]
  }
 ],
 "metadata": {
  "kernelspec": {
   "display_name": "R",
   "language": "R",
   "name": "ir"
  },
  "language_info": {
   "codemirror_mode": "r",
   "file_extension": ".r",
   "mimetype": "text/x-r-source",
   "name": "R",
   "pygments_lexer": "r",
   "version": "3.4.4"
  }
 },
 "nbformat": 4,
 "nbformat_minor": 4
}
